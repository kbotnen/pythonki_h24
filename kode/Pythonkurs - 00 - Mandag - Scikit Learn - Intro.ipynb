{
 "cells": [
  {
   "cell_type": "code",
   "execution_count": null,
   "id": "30a4b929-883a-46da-849d-66e9d0e281e1",
   "metadata": {},
   "outputs": [],
   "source": [
    "import sklearn\n",
    "print('Version: ', sklearn.__version__)"
   ]
  },
  {
   "cell_type": "code",
   "execution_count": null,
   "id": "d7596dd4-f264-45db-b24f-cfa42a57c808",
   "metadata": {},
   "outputs": [],
   "source": [
    "from sklearn import set_config\n",
    "set_config(display=\"diagram\")"
   ]
  },
  {
   "cell_type": "markdown",
   "id": "0e71f4ce-53e5-49d9-b566-aabc1faa7dfb",
   "metadata": {},
   "source": [
    "## Easy start - Training and predictions"
   ]
  },
  {
   "cell_type": "code",
   "execution_count": null,
   "id": "31868bf4-26b9-45cf-8db6-bed8932b4b57",
   "metadata": {},
   "outputs": [],
   "source": [
    "from sklearn.ensemble import RandomForestClassifier\n",
    "\n",
    "# The classifier\n",
    "model = RandomForestClassifier(random_state=42)\n",
    "\n",
    "# Two observations\n",
    "X = [[ 1,  2,  3],\n",
    "    [11, 12, 13]]\n",
    "\n",
    "# Two possible classes\n",
    "y = [0, 1]\n",
    "\n",
    "# Training\n",
    "model.fit(X, y)"
   ]
  },
  {
   "cell_type": "code",
   "execution_count": null,
   "id": "91cf91a9-ace2-4fa3-b453-b391e5c30196",
   "metadata": {},
   "outputs": [],
   "source": [
    "# Predict \n",
    "model.predict(X)"
   ]
  },
  {
   "cell_type": "code",
   "execution_count": null,
   "id": "8c98149e-d7a8-4f8c-950a-7dd6a055f2bf",
   "metadata": {},
   "outputs": [],
   "source": [
    "# Predict with new unseen data\n",
    "model.predict([[14, 15, 16],[4, 5, 6] ])"
   ]
  },
  {
   "cell_type": "code",
   "execution_count": null,
   "id": "583079f2-188f-4a78-ab17-0d9928b7929c",
   "metadata": {},
   "outputs": [],
   "source": [
    "# Predict and show the probabilities\n",
    "model.predict_proba([[14, 15, 16],[4, 5, 6] ])"
   ]
  },
  {
   "cell_type": "markdown",
   "id": "b1d8026f-9e35-4058-aab0-90aac8fef757",
   "metadata": {},
   "source": [
    "![Choosing the right estimator](ml_map.svg)\n",
    "\n",
    "[https://scikit-learn.org/stable/machine_learning_map.html](https://scikit-learn.org/stable/machine_learning_map.html)"
   ]
  },
  {
   "cell_type": "markdown",
   "id": "9e61706f-479d-4da7-abda-55e9abdb5227",
   "metadata": {},
   "source": [
    "| Supervised learning               | Unsupervised learning             |\n",
    "| --------------------------------- | --------------------------------- |\n",
    "|   modules/linear_model |   modules/mixture\n",
    "|   modules/lda_qda |   modules/manifold\n",
    "|   modules/kernel_ridge |   modules/clustering\n",
    "|   modules/svm |   modules/clustering\n",
    "|   modules/sgd |   modules/biclustering\n",
    "|   modules/neighbors |   modules/decomposition\n",
    "|   modules/gaussian_process |   modules/covariance\n",
    "|   modules/cross_decomposition |   modules/outlier_detection\n",
    "|   modules/naive_bayes |   modules/density\n",
    "|   modules/tree |   modules/neural_networks_unsupervised\n",
    "|   modules/ensemble\n",
    "|   modules/multiclass\n",
    "|   modules/feature_selection\n",
    "|   modules/semi_supervised\n",
    "|   modules/isotonic\n",
    "|   modules/calibration\n",
    "|   modules/neural_networks_supervised\n",
    "\n",
    "[https://scikit-learn.org/stable/user_guide.html](https://scikit-learn.org/stable/user_guide.html)"
   ]
  },
  {
   "cell_type": "markdown",
   "id": "7af87a6c-33df-4dd6-984e-a91e7d052a0d",
   "metadata": {},
   "source": [
    "## Another example"
   ]
  },
  {
   "cell_type": "code",
   "execution_count": null,
   "id": "9d927a89-4773-4d32-ad7f-393b8eebfc3c",
   "metadata": {},
   "outputs": [],
   "source": [
    "from sklearn.datasets import load_iris\n",
    "from sklearn.linear_model import LogisticRegression\n",
    "\n",
    "X, y = load_iris(return_X_y=True)"
   ]
  },
  {
   "cell_type": "code",
   "execution_count": null,
   "id": "731b6822-367e-4191-b3d9-0557ee53cb6c",
   "metadata": {},
   "outputs": [],
   "source": [
    "# Inspect the data before proceeding\n",
    "print(type(X)) # Type of variable X\n",
    "print(type(y)) # Type of variable y\n",
    "\n",
    "print(len(X)) # Length of the ndarray X\n",
    "print(len(y)) # Length of the ndarray y\n",
    "\n",
    "print(X[:5]) # First n elements of ndarray X\n",
    "print(y[:5]) # First n elements of ndarray y"
   ]
  },
  {
   "cell_type": "markdown",
   "id": "3db715cf-50ae-4d0f-a21c-b0be227316c0",
   "metadata": {},
   "source": [
    "<img src=\"iris_dataset.png\" alt=\"Iris dataset\" width=\"600\"/>"
   ]
  },
  {
   "cell_type": "code",
   "execution_count": null,
   "id": "253cf23f-d80c-4364-8b57-2920e89b0c06",
   "metadata": {},
   "outputs": [],
   "source": [
    "clf = LogisticRegression(random_state=42,max_iter=1000).fit(X, y)"
   ]
  },
  {
   "cell_type": "code",
   "execution_count": null,
   "id": "2072584c-f7b0-4cac-99e2-fb83ca64f927",
   "metadata": {},
   "outputs": [],
   "source": [
    "clf.predict(X[:5, :])"
   ]
  },
  {
   "cell_type": "code",
   "execution_count": null,
   "id": "ddc611b1-6086-4751-8576-76762fdd65c4",
   "metadata": {},
   "outputs": [],
   "source": [
    "clf.predict_proba(X[:5, :])"
   ]
  },
  {
   "cell_type": "code",
   "execution_count": null,
   "id": "8615fe4a-f2ad-4de8-ae67-c36af555c0db",
   "metadata": {},
   "outputs": [],
   "source": [
    "clf.score(X, y)"
   ]
  },
  {
   "cell_type": "markdown",
   "id": "0d13ddf8-22f0-46b3-9244-08700a4859db",
   "metadata": {},
   "source": [
    "## Second gear - Transformers and pre-processors"
   ]
  },
  {
   "cell_type": "code",
   "execution_count": null,
   "id": "861639c3-9aa8-4cae-90a1-376354511e16",
   "metadata": {},
   "outputs": [],
   "source": [
    "from sklearn.preprocessing import StandardScaler\n",
    "import numpy as np\n",
    "\n",
    "x = np.array([1,2,3,4,5,6])\n",
    "print(x) # Show the effect of the Numpy reshape, x is a row\n",
    "X = np.array([1,2,3,4,5,6]).reshape(-1, 1)\n",
    "print(X) # Show the effect of the Numpy reshape, X is a column\n",
    "\n",
    "# Create a pre-processor, i.e StandardScaler = Standardize features by removing the mean and scaling to unit variance.\n",
    "scaler = StandardScaler().fit(X) \n",
    "scaler.transform(X)"
   ]
  },
  {
   "cell_type": "code",
   "execution_count": null,
   "id": "b7d53dcd-8e07-4c2c-972e-ecaacda1cdfe",
   "metadata": {},
   "outputs": [],
   "source": [
    "# Chain it if that suits you better. Same result.\n",
    "StandardScaler().fit(X).transform(X)"
   ]
  },
  {
   "cell_type": "code",
   "execution_count": null,
   "id": "92f29504-d861-4122-8d7e-bd8a8019bb9e",
   "metadata": {},
   "outputs": [],
   "source": [
    "# All paths leading to the same place.\n",
    "StandardScaler().fit_transform(X)"
   ]
  },
  {
   "cell_type": "code",
   "execution_count": null,
   "id": "8a767b72-d14c-4845-b5fb-10ef18b30473",
   "metadata": {},
   "outputs": [],
   "source": [
    "XX = np.array([1.1,2.2,3.3,4.4,5.5,6.6]).reshape(-1, 1)\n",
    "scaler.transform(XX) # Reuse the calculated values to transform another dataset."
   ]
  },
  {
   "cell_type": "code",
   "execution_count": null,
   "id": "c95982d3-1af8-4e47-92c0-2ddf42066ac7",
   "metadata": {},
   "outputs": [],
   "source": [
    "import pandas as pd\n",
    "\n",
    "X = pd.DataFrame(\n",
    "    {'city': ['Oslo', 'Bergen', 'Tromsø', 'Oslo'], \n",
    "     'slogan': [\"Unanimiter et constanter\", \"Byen mellom de syv fjell\",\n",
    "     \"Nordens Paris\", \"Tenk om\"], \n",
    "     'tripadvisor_rating': [5, 3, 4, 5],\n",
    "     'hotels_rating': [4, 5, 4, 3]})"
   ]
  },
  {
   "cell_type": "code",
   "execution_count": null,
   "id": "4d3780ca-1187-46aa-89bf-d09c1860d7f0",
   "metadata": {},
   "outputs": [],
   "source": [
    "X"
   ]
  },
  {
   "cell_type": "code",
   "execution_count": null,
   "id": "da86f430-ca9d-426e-a8ff-bcbe1b14d613",
   "metadata": {},
   "outputs": [],
   "source": [
    "from sklearn.compose import ColumnTransformer\n",
    "from sklearn.feature_extraction.text import CountVectorizer\n",
    "from sklearn.preprocessing import OneHotEncoder\n",
    "column_trans = ColumnTransformer(\n",
    "    [('encode_cities', OneHotEncoder(dtype='int'), ['city']),\n",
    "    ('vectorize_slogan', CountVectorizer(), 'slogan')],\n",
    "    remainder='drop', verbose_feature_names_out=False)"
   ]
  },
  {
   "cell_type": "code",
   "execution_count": null,
   "id": "95f98831-f4d9-4b40-8074-6c1873557853",
   "metadata": {},
   "outputs": [],
   "source": [
    "column_trans.fit(X)"
   ]
  },
  {
   "cell_type": "code",
   "execution_count": null,
   "id": "686ee756-7e06-4de6-9806-b1eac8313497",
   "metadata": {},
   "outputs": [],
   "source": [
    "column_trans.get_feature_names_out()"
   ]
  },
  {
   "cell_type": "code",
   "execution_count": null,
   "id": "bd0c05cc-0503-4030-a816-0aa5eaecb7e1",
   "metadata": {},
   "outputs": [],
   "source": [
    "column_trans.transform(X).toarray()"
   ]
  },
  {
   "cell_type": "markdown",
   "id": "a435887e-3cda-4877-8a94-3741fd320a01",
   "metadata": {},
   "source": [
    "## Speeding up - Pipeplines"
   ]
  },
  {
   "cell_type": "code",
   "execution_count": null,
   "id": "b1e5875e-9a10-46b4-8c6f-c99256d14053",
   "metadata": {},
   "outputs": [],
   "source": [
    "from sklearn.preprocessing import StandardScaler , MinMaxScaler\n",
    "from sklearn.linear_model import LogisticRegression\n",
    "from sklearn.pipeline import make_pipeline\n",
    "from sklearn.datasets import load_iris\n",
    "from sklearn.model_selection import train_test_split\n",
    "from sklearn.metrics import accuracy_score\n",
    "\n",
    "pipe = make_pipeline(\n",
    "    StandardScaler(), # Pre-processor / Transformer / fit() + transform()\n",
    "    MinMaxScaler(), # Pre-processor / Transformer / fit() + transform()\n",
    "    LogisticRegression() # Estimator  / Classifier / fit() + predict()\n",
    ")"
   ]
  },
  {
   "cell_type": "code",
   "execution_count": null,
   "id": "43e3096b-1eed-4932-8e6d-dee62a05f1fd",
   "metadata": {},
   "outputs": [],
   "source": [
    "X, y = load_iris(return_X_y=True) # Same as before.\n",
    "X_train, X_test, y_train, y_test = train_test_split(X, y, random_state=42)"
   ]
  },
  {
   "cell_type": "code",
   "execution_count": null,
   "id": "b8dc6146-74ed-4411-b383-b75c397dbb68",
   "metadata": {},
   "outputs": [],
   "source": [
    "print(type(X_train)) # Type of variable\n",
    "print(type(X_test)) # Type of variable\n",
    "print(type(y_train)) # Type of variable\n",
    "print(type(y_test)) # Type of variable\n",
    "\n",
    "print(len(X_train)) # Length of the ndarray \n",
    "print(len(X_test)) # Length of the ndarray \n",
    "print(len(y_train)) # Length of the ndarray \n",
    "print(len(y_test)) # Length of the ndarray \n",
    "\n",
    "print(X_train[:5]) # First n elements of ndarray\n",
    "print(X_test[:5]) # First n elements of ndarray\n",
    "print(y_train[:5]) # First n elements of ndarray\n",
    "print(y_test[:5]) # First n elements of ndarray"
   ]
  },
  {
   "cell_type": "code",
   "execution_count": null,
   "id": "67106ab5-5814-43eb-b3ca-3adbc86cb592",
   "metadata": {},
   "outputs": [],
   "source": [
    "pipe.fit(X_train, y_train)"
   ]
  },
  {
   "cell_type": "code",
   "execution_count": null,
   "id": "17026e34-5764-4f52-8304-7f51114294ee",
   "metadata": {},
   "outputs": [],
   "source": [
    "accuracy_score(pipe.predict(X_test), y_test)"
   ]
  },
  {
   "cell_type": "markdown",
   "id": "415f2a4f-2ad6-454b-ba00-191f8bcc127c",
   "metadata": {},
   "source": [
    "## Get ready for landing - Evaluation"
   ]
  },
  {
   "cell_type": "code",
   "execution_count": null,
   "id": "b02c9bff-8ff0-407a-b479-5e59137937ba",
   "metadata": {},
   "outputs": [],
   "source": [
    "from sklearn.datasets import make_regression\n",
    "from sklearn.linear_model import LinearRegression\n",
    "from sklearn.model_selection import cross_validate\n",
    "\n",
    "X, y = make_regression(n_samples=100, random_state=42) # Generata some data, 100 observations.\n",
    "lr = LinearRegression() # Estimator"
   ]
  },
  {
   "cell_type": "code",
   "execution_count": null,
   "id": "89b14c62-3341-4820-b29b-6376b9d391ad",
   "metadata": {},
   "outputs": [],
   "source": [
    "print(type(X)) # Type of the variable\n",
    "print(type(y)) # Type of the variable\n",
    "\n",
    "print(len(X)) # Length of the ndarray \n",
    "print(len(y)) # Length of the ndarray \n",
    "\n",
    "print(X[:1]) # First n elements of ndarray\n",
    "print(y[:1]) # First n elements of ndarray"
   ]
  },
  {
   "cell_type": "code",
   "execution_count": null,
   "id": "b55f5ae2-d269-481f-82b6-eebd821a8108",
   "metadata": {},
   "outputs": [],
   "source": [
    "result = cross_validate(lr, X, y)"
   ]
  },
  {
   "cell_type": "code",
   "execution_count": null,
   "id": "b8154c8f-75a1-445f-98d5-d393a656fa4a",
   "metadata": {},
   "outputs": [],
   "source": [
    "result['test_score']"
   ]
  },
  {
   "cell_type": "markdown",
   "id": "0821ece8-dc91-4317-be6e-032602366ee9",
   "metadata": {},
   "source": [
    "## Land ahoy - Automatic parameter search"
   ]
  },
  {
   "cell_type": "code",
   "execution_count": null,
   "id": "7f50c49b-c46c-4573-a8a9-6e7ef61ff7eb",
   "metadata": {},
   "outputs": [],
   "source": [
    "import pandas as pd\n",
    "from sklearn.datasets import fetch_california_housing\n",
    "from sklearn.ensemble import RandomForestRegressor\n",
    "from sklearn.model_selection import RandomizedSearchCV\n",
    "from sklearn.model_selection import train_test_split\n",
    "from scipy.stats import randint\n",
    "\n",
    "X, y = fetch_california_housing(return_X_y=True) # https://scikit-learn.org/stable/datasets/real_world.html#california-housing-dataset\n",
    "X_train, X_test, y_train, y_test = train_test_split(X, y, random_state=42) # Train-test-split as previously seen.\n",
    "\n",
    "\n",
    "param_distributions = {'n_estimators': randint(1, 5),\n",
    "                       'max_depth': randint(5, 10)}\n",
    "\n",
    "search = RandomizedSearchCV(estimator=RandomForestRegressor(random_state=42),\n",
    "                             n_iter=5, # Test 5 random combinations of the params.\n",
    "                             param_distributions=param_distributions, # The parameters of interest.\n",
    "                             random_state=42)"
   ]
  },
  {
   "cell_type": "code",
   "execution_count": null,
   "id": "6bfc89c3-0369-4b03-81a5-a827d8d4cc34",
   "metadata": {},
   "outputs": [],
   "source": [
    "print(type(X_train)) # Type of variable\n",
    "print(type(X_test)) # Type of variable\n",
    "print(type(y_train)) # Type of variable\n",
    "print(type(y_test)) # Type of variable\n",
    "\n",
    "print(len(X_train)) # Length of the ndarray \n",
    "print(len(X_test)) # Length of the ndarray \n",
    "print(len(y_train)) # Length of the ndarray \n",
    "print(len(y_test)) # Length of the ndarray \n",
    "\n",
    "print(X_train[:5]) # First n elements of ndarray\n",
    "print(X_test[:5]) # First n elements of ndarray\n",
    "print(y_train[:5]) # First n elements of ndarray\n",
    "print(y_test[:5]) # First n elements of ndarray"
   ]
  },
  {
   "cell_type": "code",
   "execution_count": null,
   "id": "eaac2bc7-85b9-49ea-9d07-b4790c2590ee",
   "metadata": {},
   "outputs": [],
   "source": [
    "search.fit(X_train, y_train)"
   ]
  },
  {
   "cell_type": "code",
   "execution_count": null,
   "id": "d552df9d-9337-40a2-945d-8f7c4438fc83",
   "metadata": {},
   "outputs": [],
   "source": [
    "search.best_params_"
   ]
  },
  {
   "cell_type": "code",
   "execution_count": null,
   "id": "3d93ff71-b833-4471-a9bf-8b35c12de5d3",
   "metadata": {},
   "outputs": [],
   "source": [
    "results = pd.DataFrame(search.cv_results_)[['params', 'mean_test_score', 'rank_test_score']]\n",
    "results = results.sort_values('rank_test_score')\n",
    "results"
   ]
  },
  {
   "cell_type": "code",
   "execution_count": null,
   "id": "769d3f06-e7b4-48c0-bf0d-650d8061ca27",
   "metadata": {},
   "outputs": [],
   "source": [
    "search.score(X_test, y_test) # Check score on our testdata."
   ]
  },
  {
   "cell_type": "code",
   "execution_count": null,
   "id": "6b852559-2d79-43d9-9e06-c34e4d0f0580",
   "metadata": {},
   "outputs": [],
   "source": [
    "search.best_estimator_.score(X_test, y_test) # Another way to check score on our testdata."
   ]
  }
 ],
 "metadata": {
  "kernelspec": {
   "display_name": "Python 3 (ipykernel)",
   "language": "python",
   "name": "python3"
  },
  "language_info": {
   "codemirror_mode": {
    "name": "ipython",
    "version": 3
   },
   "file_extension": ".py",
   "mimetype": "text/x-python",
   "name": "python",
   "nbconvert_exporter": "python",
   "pygments_lexer": "ipython3",
   "version": "3.12.7"
  }
 },
 "nbformat": 4,
 "nbformat_minor": 5
}
