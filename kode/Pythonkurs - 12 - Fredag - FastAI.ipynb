{
 "cells": [
  {
   "cell_type": "code",
   "execution_count": null,
   "id": "3c73cb4e",
   "metadata": {},
   "outputs": [],
   "source": [
    "import warnings\n",
    "warnings.simplefilter(action='ignore', category=UserWarning)"
   ]
  },
  {
   "cell_type": "code",
   "execution_count": null,
   "id": "b75e3ca3",
   "metadata": {},
   "outputs": [],
   "source": [
    "from duckduckgo_search import DDGS # pip install duckduckgo_search\n",
    "from fastdownload import download_url # conda install fastdownload\n",
    "from fastcore.all import * # conda install -c fastai fastai or conda install pytorch torchvision -c pytorch\n",
    "\n",
    "from fastai.vision.all import *\n",
    "\n",
    "from urllib.error import HTTPError"
   ]
  },
  {
   "cell_type": "code",
   "execution_count": null,
   "id": "ab0ed04f",
   "metadata": {},
   "outputs": [],
   "source": [
    "# A function that search images.\n",
    "def search_images(term, max_images=2):\n",
    "    print(f\"Searching for '{term}'\")\n",
    "    return DDGS().images(keywords=term, max_results=max_images)"
   ]
  },
  {
   "cell_type": "code",
   "execution_count": null,
   "id": "e9f0baa0",
   "metadata": {},
   "outputs": [],
   "source": [
    "# Search, download and show a picture of a bird.\n",
    "bird_dest = 'data/bird.jpg'\n",
    "bird_urls = search_images('bird photos', max_images=1) # Relies on ddg, if error just try again.\n",
    "\n",
    "print(bird_urls)\n",
    "download_url(bird_urls[0]['image'], bird_dest, show_progress=True)\n",
    "\n",
    "im = Image.open(bird_dest)\n",
    "im.to_thumb(256,256)"
   ]
  },
  {
   "cell_type": "code",
   "execution_count": null,
   "id": "9ae801cd",
   "metadata": {},
   "outputs": [],
   "source": [
    "# Search, download and show a picture of a forest.\n",
    "forest_dest = 'data/forest.jpg'\n",
    "forest_urls = search_images('forest photos', max_images=1)\n",
    "download_url(forest_urls[0]['image'], forest_dest, show_progress=True)\n",
    "\n",
    "im = Image.open(forest_dest)\n",
    "im.to_thumb(256,256)"
   ]
  },
  {
   "cell_type": "code",
   "execution_count": null,
   "id": "97f2ade0-e45a-4559-a7c5-e021c0dc0e6a",
   "metadata": {},
   "outputs": [],
   "source": [
    "searches = 'forest','bird'\n",
    "path = Path('data/bird_or_not')\n",
    "from time import sleep\n",
    "\n",
    "for search in searches:\n",
    "    dest = (path/search)\n",
    "    dest.mkdir(exist_ok=True, parents=True)\n",
    "\n",
    "    # This block search and download a version of the searchterm.\n",
    "    images = search_images(f'{search} photo', max_images=30)\n",
    "    url_list = []\n",
    "    for url in images:\n",
    "        url_list.append(url['image'])   \n",
    "    download_images(dest, urls=url_list)\n",
    "    sleep(10)  # Pause between searches to avoid over-loading server\n",
    "\n",
    "    # This block search and download a version of the searchterm.\n",
    "    images = search_images(f'{search} sun photo', max_images=30)\n",
    "    url_list = []\n",
    "    for url in images:\n",
    "        url_list.append(url['image'])  \n",
    "    download_images(dest, urls=url_list)\n",
    "    sleep(10)  # Pause between searches to avoid over-loading server\n",
    "\n",
    "    # This block search and download a version of the searchterm.\n",
    "    images = search_images(f'{search} shade photo', max_images=30)\n",
    "    url_list = []\n",
    "    for url in images:\n",
    "        url_list.append(url['image'])  \n",
    "    download_images(dest, urls=url_list)\n",
    "\n",
    "    # Resize all the images in the folder.\n",
    "    resize_images(path/search, max_size=400, dest=path/search)"
   ]
  },
  {
   "cell_type": "code",
   "execution_count": null,
   "id": "a3066d93",
   "metadata": {},
   "outputs": [],
   "source": [
    "# Removed images that did not download correctly.\n",
    "path = Path('data/bird_or_not')\n",
    "failed = verify_images(get_image_files(path))\n",
    "failed.map(Path.unlink)\n",
    "len(failed)"
   ]
  },
  {
   "cell_type": "code",
   "execution_count": null,
   "id": "301d3b2f",
   "metadata": {},
   "outputs": [],
   "source": [
    "path = Path('data/bird_or_not')\n",
    "\n",
    "# Prepare the dataset. Both the training set and the validation set.\n",
    "dataloaders = DataBlock(\n",
    "    blocks=(ImageBlock, CategoryBlock), # Input is images, Output is categories (bird / forest).\n",
    "    get_items=get_image_files, # Get image files in path recursively, only in folders, if specified.\n",
    "    splitter=RandomSplitter(valid_pct=0.2, seed=42), # Create function that splits items between train/val with valid_pct randomly.\n",
    "    get_y=parent_label, # Label item with the parent folder name.\n",
    "    item_tfms=[Resize(192, method='squish')] # Resize image by squishing (not cropping) before training.\n",
    ").dataloaders(path, bs=32, verbose=True) # https://docs.fast.ai/data.block.html#datablock.dataloaders"
   ]
  },
  {
   "cell_type": "code",
   "execution_count": null,
   "id": "19880255-f876-4326-b9a9-4a5278a3d83b",
   "metadata": {},
   "outputs": [],
   "source": [
    "dataloaders.show_batch(max_n=6)"
   ]
  },
  {
   "cell_type": "code",
   "execution_count": null,
   "id": "7b9ff5c8",
   "metadata": {},
   "outputs": [],
   "source": [
    "# Train and tune our model.\n",
    "learn = vision_learner(dataloaders, resnet18, metrics=error_rate) # Resnet18 is a widely used, fast, cv model.\n",
    "learn.fine_tune(3) # FastAI use best practices for fine tuning a pre-trained model."
   ]
  },
  {
   "cell_type": "code",
   "execution_count": null,
   "id": "e2b7aebb",
   "metadata": {},
   "outputs": [],
   "source": [
    "# Use our model by passing it the first picture that we downloaded.\n",
    "category,_,probs = learn.predict(PILImage.create('data/bird.jpg'))\n",
    "\n",
    "print(f\"This is a: {category}.\")\n",
    "print(f\"Probability it's a bird: {probs[0]:.4f}\")"
   ]
  },
  {
   "cell_type": "code",
   "execution_count": null,
   "id": "efea759f-537a-47d2-8ee6-3c8035fec1d5",
   "metadata": {},
   "outputs": [],
   "source": [
    "print(probs)"
   ]
  }
 ],
 "metadata": {
  "kernelspec": {
   "display_name": "Python 3 (ipykernel)",
   "language": "python",
   "name": "python3"
  },
  "language_info": {
   "codemirror_mode": {
    "name": "ipython",
    "version": 3
   },
   "file_extension": ".py",
   "mimetype": "text/x-python",
   "name": "python",
   "nbconvert_exporter": "python",
   "pygments_lexer": "ipython3",
   "version": "3.12.7"
  },
  "widgets": {
   "application/vnd.jupyter.widget-state+json": {
    "state": {},
    "version_major": 2,
    "version_minor": 0
   }
  }
 },
 "nbformat": 4,
 "nbformat_minor": 5
}
