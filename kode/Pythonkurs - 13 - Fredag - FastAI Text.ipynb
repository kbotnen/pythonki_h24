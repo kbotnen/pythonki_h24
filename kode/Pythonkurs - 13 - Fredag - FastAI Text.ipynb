{
 "cells": [
  {
   "cell_type": "code",
   "execution_count": null,
   "id": "3c73cb4e",
   "metadata": {},
   "outputs": [],
   "source": [
    "import warnings\n",
    "warnings.simplefilter(action='ignore', category=UserWarning)"
   ]
  },
  {
   "cell_type": "code",
   "execution_count": null,
   "id": "b75e3ca3",
   "metadata": {},
   "outputs": [],
   "source": [
    "from fastai.text.all import *"
   ]
  },
  {
   "cell_type": "code",
   "execution_count": null,
   "id": "be26ed9d-2e87-4f81-9998-be29454c798c",
   "metadata": {},
   "outputs": [],
   "source": [
    "print(torch.backends.mps.is_built()) # Apple M-series metal-performance-shaders-framework\n",
    "print(torch.backends.mps.is_available()) # Apple M-series metal-performance-shaders-framework\n",
    "\n",
    "mps_device = default_device()\n",
    "print(mps_device)"
   ]
  },
  {
   "cell_type": "code",
   "execution_count": null,
   "id": "e9f0baa0",
   "metadata": {},
   "outputs": [],
   "source": [
    "path = untar_data(URLs.IMDB) # https://docs.fast.ai/data.external.html"
   ]
  },
  {
   "cell_type": "code",
   "execution_count": null,
   "id": "61037931-6568-40f2-a3bd-b5919f7a1768",
   "metadata": {},
   "outputs": [],
   "source": [
    "path.ls()\n",
    "(path/'train').ls()"
   ]
  },
  {
   "cell_type": "markdown",
   "id": "64f04213-0434-4a7e-855a-6a50ba242272",
   "metadata": {},
   "source": [
    "<img src=\"imdb_finderview.png\" alt=\"IMDB dataset on disk\" width=\"200\"/>\n",
    "<img src=\"imdb_observationexample.png\" alt=\"IMDB dataset example\" height=\"200\"/>"
   ]
  },
  {
   "cell_type": "code",
   "execution_count": null,
   "id": "56962c25-7c86-4389-9ede-d7cb12399178",
   "metadata": {},
   "outputs": [],
   "source": [
    "import shutil\n",
    "#from pathlib import Path\n",
    "\n",
    "def create_subset(src, dest, num_samples=256):\n",
    "    dest.mkdir(parents=True, exist_ok=True)\n",
    "    files = list(src.glob('*'))[:num_samples]\n",
    "    for file in files:\n",
    "        shutil.copy(file, dest/file.name)\n",
    "\n",
    "\n",
    "train_unsup = path/'unsup'\n",
    "train_pos = path/'train'/'pos'\n",
    "train_neg = path/'train'/'neg'\n",
    "test_pos = path/'test'/'pos'\n",
    "test_neg = path/'test'/'neg'\n",
    "\n",
    "# Create subset directories\n",
    "top_datapath = path.parent\n",
    "subset_path = top_datapath/'subset'\n",
    "\n",
    "(subset_path/'unsup').mkdir(parents=True, exist_ok=True)\n",
    "(subset_path/'train'/'pos').mkdir(parents=True, exist_ok=True)\n",
    "(subset_path/'train'/'neg').mkdir(parents=True, exist_ok=True)\n",
    "(subset_path/'test'/'pos').mkdir(parents=True, exist_ok=True)\n",
    "(subset_path/'test'/'neg').mkdir(parents=True, exist_ok=True)\n",
    "\n",
    "# Copy files to subset directories\n",
    "create_subset(train_unsup, subset_path/'unsup')\n",
    "create_subset(train_pos, subset_path/'train'/'pos')\n",
    "create_subset(train_neg, subset_path/'train'/'neg')\n",
    "create_subset(test_pos, subset_path/'test'/'pos')\n",
    "create_subset(test_neg, subset_path/'test'/'neg')"
   ]
  },
  {
   "cell_type": "markdown",
   "id": "d129472a-fc7e-4188-adbe-677a8f8fd677",
   "metadata": {},
   "source": [
    "<img src=\"imdb_subset_finderview.png\" alt=\"IMDB dataset on disk\" width=\"200\"/>"
   ]
  },
  {
   "cell_type": "code",
   "execution_count": null,
   "id": "9ae801cd",
   "metadata": {},
   "outputs": [],
   "source": [
    "# Prepare the dataset. Both the training set and the validation set.\n",
    "datablock = DataBlock(\n",
    "    blocks=(TextBlock.from_folder(subset_path), CategoryBlock), # Input is text, Output is categories (positive / negative).\n",
    "    get_items=get_text_files, # Get text files in path recursively, only in folders, if specified.\n",
    "    splitter=GrandparentSplitter(valid_name='test'), # Split items from the grand parent folder names (train_name and valid_name).\n",
    "    get_y=parent_label, # Label item with the parent folder name.\n",
    ")\n",
    "\n",
    "dataloaders = datablock.dataloaders(subset_path, bs=16, device=mps_device) # https://docs.fast.ai/data.transforms.html"
   ]
  },
  {
   "cell_type": "code",
   "execution_count": null,
   "id": "b2fe3c0e-4efe-4cc3-b479-229ed90ebab9",
   "metadata": {},
   "outputs": [],
   "source": [
    "datablock.summary(subset_path)"
   ]
  },
  {
   "cell_type": "code",
   "execution_count": null,
   "id": "19880255-f876-4326-b9a9-4a5278a3d83b",
   "metadata": {},
   "outputs": [],
   "source": [
    "dataloaders.show_batch(max_n=3)"
   ]
  },
  {
   "cell_type": "code",
   "execution_count": null,
   "id": "133b2a06-bf43-4aba-acdf-9fe28332c303",
   "metadata": {},
   "outputs": [],
   "source": [
    "print(type(dataloaders))\n",
    "print(len(dataloaders))\n",
    "print(len(dataloaders.train_ds), len(dataloaders.valid_ds))\n",
    "\n",
    "for i, sample in enumerate(dataloaders.train_ds):\n",
    "    print(sample)\n",
    "    if i == 2:\n",
    "        break"
   ]
  },
  {
   "cell_type": "markdown",
   "id": "1aea4e74-b02c-4c42-8ba7-67a001e961c1",
   "metadata": {},
   "source": [
    "## Train and tune our model"
   ]
  },
  {
   "cell_type": "code",
   "execution_count": null,
   "id": "7b9ff5c8",
   "metadata": {},
   "outputs": [],
   "source": [
    "# Train and tune our model.\n",
    "learn = text_classifier_learner(dataloaders, AWD_LSTM, drop_mult=0.5, metrics=accuracy)"
   ]
  },
  {
   "cell_type": "code",
   "execution_count": null,
   "id": "4382d8b4-29b4-4065-a68f-9b54dcc2a15b",
   "metadata": {},
   "outputs": [],
   "source": [
    "learn.fine_tune(4, 1e-2)"
   ]
  },
  {
   "cell_type": "code",
   "execution_count": null,
   "id": "f25f0bad-33b6-4de2-ae9f-c94982666e8f",
   "metadata": {},
   "outputs": [],
   "source": [
    "learn.show_results()"
   ]
  },
  {
   "cell_type": "code",
   "execution_count": null,
   "id": "e2b7aebb",
   "metadata": {},
   "outputs": [],
   "source": [
    "# Use our model by passing it a review.\n",
    "category,_,probs = learn.predict(\"I really liked that movie\")\n",
    "\n",
    "print(f\"This is a: {category}.\")\n",
    "print(f\"Probability it's a positive: {probs[1]:.4f}\")\n",
    "\n",
    "category,_,probs = learn.predict(\"I did not like that movie, it was awful\")\n",
    "\n",
    "print(f\"This is a: {category}.\")\n",
    "print(f\"Probability it's a positive: {probs[1]:.4f}\")"
   ]
  },
  {
   "cell_type": "markdown",
   "id": "c852fc02-7806-4fcd-a631-c0f6a82fdc84",
   "metadata": {},
   "source": [
    "<img src=\"cpu_gpu_belastning.png\" alt=\"CPU og GPU belastning\" width=\"800\"/>"
   ]
  },
  {
   "cell_type": "markdown",
   "id": "5015a02d-f657-4e6e-b005-ee0113d5a724",
   "metadata": {},
   "source": [
    "## ULMFiT"
   ]
  },
  {
   "cell_type": "markdown",
   "id": "046e8d44-36ed-4d8b-a275-7a6ef1c4f212",
   "metadata": {},
   "source": [
    "<img src=\"ulmfit.png\" alt=\"ULMFiT process\" width=\"800\"/>"
   ]
  },
  {
   "cell_type": "code",
   "execution_count": null,
   "id": "8a94f690-358d-4f07-9dca-a5f69a544b90",
   "metadata": {},
   "outputs": [],
   "source": [
    "dataloaders_lm = TextDataLoaders.from_folder(subset_path/'unsup', is_lm=True, valid_pct=0.1)"
   ]
  },
  {
   "cell_type": "code",
   "execution_count": null,
   "id": "140d0536-5b62-4a99-bff7-00965b687a30",
   "metadata": {},
   "outputs": [],
   "source": [
    "dataloaders_lm.show_batch(max_n=3)"
   ]
  },
  {
   "cell_type": "code",
   "execution_count": null,
   "id": "3cbde531-142c-4ce0-919d-09ecb60c89c3",
   "metadata": {},
   "outputs": [],
   "source": [
    "llm_learn = language_model_learner(dataloaders_lm, AWD_LSTM, metrics=[accuracy, Perplexity()], path=subset_path/'unsup', wd=0.1)"
   ]
  },
  {
   "cell_type": "code",
   "execution_count": null,
   "id": "617f73d6-d6c1-412f-9d69-3963847fb4ae",
   "metadata": {},
   "outputs": [],
   "source": [
    "llm_learn.fit_one_cycle(4, 1e-2) # 0.01 | https://iconof.com/1cycle-learning-rate-policy/"
   ]
  },
  {
   "cell_type": "code",
   "execution_count": null,
   "id": "7e17beae-e169-4a4f-8d8f-2770dbaaff19",
   "metadata": {},
   "outputs": [],
   "source": [
    "llm_learn.save('4epoch')\n",
    "# llm_learn = llm_learn.load('1epoch')"
   ]
  },
  {
   "cell_type": "code",
   "execution_count": null,
   "id": "428aeaa7-fd49-4dbc-89cf-0b28297a410f",
   "metadata": {},
   "outputs": [],
   "source": [
    "llm_learn.unfreeze()\n",
    "llm_learn.fit_one_cycle(10, 1e-3) # 0.001 | https://iconof.com/1cycle-learning-rate-policy/"
   ]
  },
  {
   "cell_type": "code",
   "execution_count": null,
   "id": "0e0f77fb-3f80-41b2-82db-de355a7c2c86",
   "metadata": {},
   "outputs": [],
   "source": [
    "llm_learn.save_encoder('10epoch_finetuned')"
   ]
  },
  {
   "cell_type": "code",
   "execution_count": null,
   "id": "d83fb99a-af3b-4774-b1ee-cc181a923c4b",
   "metadata": {},
   "outputs": [],
   "source": [
    "print(llm_learn.predict(\"The man is a good\", 1, temperature=0.75))"
   ]
  },
  {
   "cell_type": "code",
   "execution_count": null,
   "id": "a0c76bca-cd6f-4324-8374-6d1278fb9b48",
   "metadata": {},
   "outputs": [],
   "source": [
    "the_best_review_starts_with = \"I liked this movie because: \"\n",
    "n_words = 40\n",
    "n_sentences = 2\n",
    "preds = [llm_learn.predict(the_best_review_starts_with, n_words, temperature=0.75) \n",
    "         for _ in range(n_sentences)]"
   ]
  },
  {
   "cell_type": "code",
   "execution_count": null,
   "id": "7a03286e-5533-42cd-9ab1-2eb2837abb26",
   "metadata": {},
   "outputs": [],
   "source": [
    "print(preds)"
   ]
  },
  {
   "cell_type": "markdown",
   "id": "9f0eb6ed-ac34-4d3e-bba1-ea1d7f9c9107",
   "metadata": {},
   "source": [
    "<img src=\"ulmfit.png\" alt=\"ULMFiT process\" width=\"800\"/>"
   ]
  },
  {
   "cell_type": "markdown",
   "id": "271bb066-bcf6-4cd0-ada9-5b7bad54cc3f",
   "metadata": {},
   "source": [
    "## Skip this part?"
   ]
  },
  {
   "cell_type": "markdown",
   "id": "aed9171a-21b8-494d-b039-73cbd7edde38",
   "metadata": {},
   "source": [
    "<img src=\"nevralt_nettverk.png\" alt=\"Nevralt nettverk\" width=\"600\"/>"
   ]
  },
  {
   "cell_type": "code",
   "execution_count": null,
   "id": "2d16e6ef-062c-47f6-8e30-bd7eca9f0947",
   "metadata": {},
   "outputs": [],
   "source": [
    "dataloaders_classifier = TextDataLoaders.from_folder(subset_path, valid='test', text_vocab=dataloaders_lm.vocab)"
   ]
  },
  {
   "cell_type": "code",
   "execution_count": null,
   "id": "b682caa0-3510-4ffc-93cc-a8307355a28d",
   "metadata": {},
   "outputs": [],
   "source": [
    "learn_2pass = text_classifier_learner(dataloaders_classifier, AWD_LSTM, drop_mult=0.5, metrics=accuracy)"
   ]
  },
  {
   "cell_type": "code",
   "execution_count": null,
   "id": "e792e2c2-301e-4f3a-8c49-4b20ae487e59",
   "metadata": {},
   "outputs": [],
   "source": [
    "encoder_path = subset_path/'unsup/models'\n",
    "learn_2pass = learn_2pass.load_encoder(encoder_path/'10epoch_finetuned')"
   ]
  },
  {
   "cell_type": "code",
   "execution_count": null,
   "id": "10f290d1-a1d6-46ef-88c6-fa109c5cf4e1",
   "metadata": {},
   "outputs": [],
   "source": [
    "learn_2pass.fit_one_cycle(1, 2e-2) # 0.02 | https://iconof.com/1cycle-learning-rate-policy/"
   ]
  },
  {
   "cell_type": "code",
   "execution_count": null,
   "id": "f65aadfb-1f99-45b7-9ac2-80cafa0c71ef",
   "metadata": {},
   "outputs": [],
   "source": [
    "#print(slice(1e-2/(2.6**4),1e-2))\n",
    "#print(slice(5e-3/(2.6**4),5e-3))\n",
    "#print(slice(1e-3/(2.6**4),1e-3))"
   ]
  },
  {
   "cell_type": "code",
   "execution_count": null,
   "id": "7c968a28-1f26-46d8-a8cd-4475fa5425a7",
   "metadata": {},
   "outputs": [],
   "source": [
    "learn_2pass.freeze_to(-2) # Last two layers\n",
    "learn_2pass.fit_one_cycle(1, slice(1e-2/(2.6**4),1e-2)) # epoch, lr group 0 (body), lr group 1 (head)"
   ]
  },
  {
   "cell_type": "code",
   "execution_count": null,
   "id": "0d0efd54-7ef7-4aa1-85e6-fc297d7797fe",
   "metadata": {},
   "outputs": [],
   "source": [
    "learn_2pass.freeze_to(-3) # Last three layers\n",
    "learn_2pass.fit_one_cycle(1, slice(5e-3/(2.6**4),5e-3)) # epoch, lr group 0 (body), lr group 1 (head)"
   ]
  },
  {
   "cell_type": "code",
   "execution_count": null,
   "id": "b27c4709-906a-4794-aaa8-4b9eb81f8650",
   "metadata": {},
   "outputs": [],
   "source": [
    "learn_2pass.unfreeze() # All layers\n",
    "learn_2pass.fit_one_cycle(2, slice(1e-3/(2.6**4),1e-3)) # epoch, lr group 0 (body), lr group 1 (head)"
   ]
  },
  {
   "cell_type": "code",
   "execution_count": null,
   "id": "1d6720e4-4cd0-4303-958b-58d3e5084077",
   "metadata": {},
   "outputs": [],
   "source": [
    "# Use our model by passing it a review.\n",
    "category,_,probs = learn_2pass.predict(\"I really liked that movie\")\n",
    "\n",
    "print(f\"This is a: {category}.\")\n",
    "print(f\"Probability it's a positive: {probs[1]:.4f}\")\n",
    "\n",
    "category,_,probs = learn_2pass.predict(\"I did not like that movie, it was awful\")\n",
    "\n",
    "print(f\"This is a: {category}.\")\n",
    "print(f\"Probability it's a positive: {probs[1]:.4f}\")"
   ]
  }
 ],
 "metadata": {
  "kernelspec": {
   "display_name": "Python 3 (ipykernel)",
   "language": "python",
   "name": "python3"
  },
  "language_info": {
   "codemirror_mode": {
    "name": "ipython",
    "version": 3
   },
   "file_extension": ".py",
   "mimetype": "text/x-python",
   "name": "python",
   "nbconvert_exporter": "python",
   "pygments_lexer": "ipython3",
   "version": "3.12.7"
  },
  "widgets": {
   "application/vnd.jupyter.widget-state+json": {
    "state": {},
    "version_major": 2,
    "version_minor": 0
   }
  }
 },
 "nbformat": 4,
 "nbformat_minor": 5
}
