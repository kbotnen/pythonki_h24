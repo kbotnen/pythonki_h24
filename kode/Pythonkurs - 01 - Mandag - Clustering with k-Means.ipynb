{
 "cells": [
  {
   "cell_type": "markdown",
   "metadata": {},
   "source": [
    "![Choosing the right estimator](ml_map.svg)\n",
    "\n",
    "[https://scikit-learn.org/stable/machine_learning_map.html](https://scikit-learn.org/stable/machine_learning_map.html)"
   ]
  },
  {
   "cell_type": "code",
   "execution_count": null,
   "metadata": {},
   "outputs": [],
   "source": [
    "import sklearn\n",
    "print('Version: ', sklearn.__version__)"
   ]
  },
  {
   "cell_type": "code",
   "execution_count": null,
   "metadata": {},
   "outputs": [],
   "source": [
    "from sklearn import set_config\n",
    "set_config(display=\"diagram\")"
   ]
  },
  {
   "cell_type": "code",
   "execution_count": null,
   "metadata": {},
   "outputs": [],
   "source": [
    "import warnings\n",
    "warnings.simplefilter(action='ignore', category=FutureWarning)"
   ]
  },
  {
   "cell_type": "markdown",
   "metadata": {},
   "source": [
    "# Work with Sample Data"
   ]
  },
  {
   "cell_type": "markdown",
   "metadata": {},
   "source": [
    "## Generating Blobs - Documentation"
   ]
  },
  {
   "cell_type": "markdown",
   "metadata": {},
   "source": [
    "[https://scikit-learn.org/stable/datasets/sample_generators.html#sample-generators](https://scikit-learn.org/stable/datasets/sample_generators.html#sample-generators)"
   ]
  },
  {
   "cell_type": "code",
   "execution_count": null,
   "metadata": {},
   "outputs": [],
   "source": [
    "from sklearn.datasets import make_blobs\n",
    "# In an interactive environment we can read documentation inline.\n",
    "?make_blobs"
   ]
  },
  {
   "cell_type": "markdown",
   "metadata": {},
   "source": [
    "## Sample Dataset"
   ]
  },
  {
   "cell_type": "code",
   "execution_count": null,
   "metadata": {},
   "outputs": [],
   "source": [
    "data_a, labels_a = make_blobs(\n",
    "    n_samples=200, # Number of samples in the dataset.\n",
    "    n_features=2, # Number of features for each sample in the dataset.\n",
    "    centers=5, # Number of clusters.\n",
    "    random_state=42 # Make it deterministic.\n",
    ")\n",
    "\n",
    "print(f'Data shape: {data_a.shape}')\n",
    "print(data_a[:3])\n",
    "print(f'Labels shape: {labels_a.shape}')\n",
    "print(labels_a[:3])"
   ]
  },
  {
   "cell_type": "markdown",
   "metadata": {},
   "source": [
    "## Visualizing 2D Data"
   ]
  },
  {
   "cell_type": "code",
   "execution_count": null,
   "metadata": {},
   "outputs": [],
   "source": [
    "import matplotlib.pyplot as plt\n",
    "plt.scatter(data_a[:, 0], data_a[:, 1])\n",
    "plt.title('Raw data')\n",
    "plt.show()"
   ]
  },
  {
   "cell_type": "markdown",
   "metadata": {},
   "source": [
    "## Boolean Indexing"
   ]
  },
  {
   "cell_type": "code",
   "execution_count": null,
   "metadata": {},
   "outputs": [],
   "source": [
    "import numpy as np\n",
    "sample = np.array(['A', 'B', 'C'])\n",
    "boolean_comp = np.array([0, 0, 0])==np.array([1, 0, 1])\n",
    "print(f'Data: {sample}')\n",
    "print(f'Filter: {boolean_comp}')\n",
    "print(f'Filtered data: {sample[boolean_comp]}')"
   ]
  },
  {
   "cell_type": "markdown",
   "metadata": {},
   "source": [
    "## Visualizing Clusters"
   ]
  },
  {
   "cell_type": "code",
   "execution_count": null,
   "metadata": {},
   "outputs": [],
   "source": [
    "for label_a in np.unique(labels_a):\n",
    "    print(label_a)\n",
    "    data_filter_a = data_a[labels_a==label_a]\n",
    "    plt.scatter(data_filter_a[:, 0], data_filter_a[:, 1])\n",
    "    plt.title('Data colored by label')\n",
    "plt.show()"
   ]
  },
  {
   "cell_type": "markdown",
   "metadata": {},
   "source": [
    "# Understanding k-Means Clustering"
   ]
  },
  {
   "cell_type": "markdown",
   "metadata": {},
   "source": [
    "## Bigger Dataset"
   ]
  },
  {
   "cell_type": "code",
   "execution_count": null,
   "metadata": {},
   "outputs": [],
   "source": [
    "# Generate a bigger dataset:\n",
    "data_b, labels_b = make_blobs(\n",
    "    n_samples=800,\n",
    "    n_features=2,\n",
    "    centers=10,\n",
    "    random_state=42\n",
    ")\n",
    "\n",
    "# Inspect the data\n",
    "print(f'Data shape: {data_b.shape}')\n",
    "print(data_b[:3])\n",
    "print(f'Labels shape: {labels_b.shape}')\n",
    "print(labels_b[:3])"
   ]
  },
  {
   "cell_type": "code",
   "execution_count": null,
   "metadata": {},
   "outputs": [],
   "source": [
    "# Plot dataset samples:\n",
    "fig, axes = plt.subplots(nrows=1, ncols=2, figsize=(9, 3)) # Multiple plots, 1 row, 2 columns.\n",
    "\n",
    "# Plot 1, raw.\n",
    "axes[0].scatter(data_b[:, 0], data_b[:, 1])\n",
    "axes[0].set_title('Raw data')\n",
    "\n",
    "# Plot 2, with pretty colors.\n",
    "for label_b in np.unique(labels_b):\n",
    "    data_filter_b = data_b[labels_b==label_b]\n",
    "    axes[1].scatter(data_filter_b[:, 0], data_filter_b[:, 1])\n",
    "    axes[1].set_title('Data colored by true cluster')\n",
    "plt.show()"
   ]
  },
  {
   "cell_type": "markdown",
   "metadata": {},
   "source": [
    "## k-Means in SciKit-learn"
   ]
  },
  {
   "cell_type": "code",
   "execution_count": null,
   "metadata": {},
   "outputs": [],
   "source": [
    "# Generate a bigger dataset:\n",
    "data_b, labels_b = make_blobs(\n",
    "    n_samples=800,\n",
    "    n_features=2,\n",
    "    centers=10,\n",
    "    random_state=42\n",
    ")\n",
    "\n",
    "# Inspect the data\n",
    "print(f'Data shape: {data_b.shape}')\n",
    "print(data_b[:3])\n",
    "print(f'Labels shape: {labels_b.shape}')\n",
    "print(labels_b[:3])"
   ]
  },
  {
   "cell_type": "code",
   "execution_count": null,
   "metadata": {},
   "outputs": [],
   "source": [
    "from sklearn.cluster import KMeans\n",
    "\n",
    "clusterer = KMeans(\n",
    "    init='random', # Choose n_clusters observations (rows) at random from data for the initial centroids.\n",
    "    n_clusters=6, # The number of clusters to form as well as the number of centroids to generate.\n",
    "    n_init='auto' # Number of times the k-means algorithm is run with different centroid seeds.\n",
    ")\n",
    "\n",
    "result_kmean = clusterer.fit_predict(data_b) # compute cluster centers and predict cluster index for each sample.\n",
    "\n",
    "# Plot dataset samples:\n",
    "for label_b in np.unique(result_kmean):\n",
    "    data_filter_b = data_b[result_kmean==label_b]\n",
    "    plt.scatter(data_filter_b[:, 0], data_filter_b[:, 1])\n",
    "    plt.title('Data colored by label')"
   ]
  },
  {
   "cell_type": "markdown",
   "metadata": {},
   "source": [
    "## How k-Means Works\n",
    "*k*-means klustering algoritmen er iterativ av natur det vil si at den gjentar spesifikke steg frem til vi stopper den, eller at den konvergerer (resultatet ikke endrer seg lenger).\n",
    "\n",
    "Det initielle steget i *k*-means innebærer at vi velger et tilfeldig senter for klusterene våre."
   ]
  },
  {
   "cell_type": "code",
   "execution_count": null,
   "metadata": {},
   "outputs": [],
   "source": [
    "random_centroids = np.random.normal( # Draw random samples from a normal (Gaussian) distribution.\n",
    "    loc=0, # Mean ('centre') of the distribution.\n",
    "    scale=5, # Standard deviation (spread or 'width') of the distribution. Must be non-negative.\n",
    "    size=(3, 2) # Output shape.\n",
    ")\n",
    "print(random_centroids)"
   ]
  },
  {
   "cell_type": "markdown",
   "metadata": {},
   "source": [
    "Når vi har centroidene vil k-means algoritmen tildele hvert datapunkt til den nærmeste centroiden. Når alle datapunkt er tildelt en centroide kalkuleres det en ny centroid for hvert cluster.\n",
    "\n",
    "* Steg 1: Oppdater centroidene i hvert cluster (i første runden, initialiser en tilfeldig centroid for hvert cluster).\n",
    "* Steg 2: Tildel hvert datapunkt til den centroiden som er nærmest.\n",
    "\n",
    "Gjenta disse stegene til algoritmen konvergerer, altså at resultatet ikke endrer seg mer."
   ]
  },
  {
   "cell_type": "markdown",
   "metadata": {},
   "source": [
    "## Visualizing Algorithm Steps\n",
    "Vi kan nå visualisere de første tre iterasjonene av *k*-means algoritmen.\n",
    "\n",
    "Koden kan se litt komplisert ut, men det vi gjør er at vi begrenser *k*-means algoritmen til å gjøre en iterasjon av gangen. Dette gjør vi ved å sette 'n_init' og 'max_iter' til 1. I tilleg så setter vi 'init' av centroidene fra den forrige iterasjonen."
   ]
  },
  {
   "cell_type": "code",
   "execution_count": null,
   "metadata": {},
   "outputs": [],
   "source": [
    "# Generate a bigger dataset:\n",
    "data, labels = make_blobs(\n",
    "    n_samples=800,\n",
    "    n_features=2,\n",
    "    centers=10,\n",
    "    random_state=42\n",
    ")\n",
    "\n",
    "# Inspect the data\n",
    "print(f'Data shape: {data.shape}')\n",
    "print(data[:3])\n",
    "print(f'Labels shape: {labels.shape}')\n",
    "print(labels[:3])"
   ]
  },
  {
   "cell_type": "code",
   "execution_count": null,
   "metadata": {},
   "outputs": [],
   "source": [
    "num_iterations = 3\n",
    "previous_labels = None\n",
    "centroids = np.random.normal(loc=0, scale=5, size=(3, 2))\n",
    "\n",
    "# Plot dataset samples:\n",
    "for i in range(num_iterations):\n",
    "    fig, axes = plt.subplots(1, 2, figsize=(9, 3))\n",
    "    clusterer = KMeans(n_clusters=3, init=centroids, n_init=1, max_iter=1)\n",
    "    result_kmean = clusterer.fit_predict(data)\n",
    "    \n",
    "    # Plot step 1 values of iteration i:\n",
    "    if i==0:\n",
    "        axes[0].scatter(data[:, 0], data[:, 1], alpha=0.2)\n",
    "        axes[0].set_title('Initial random centroids (iteration 1, step 1)')\n",
    "    else:\n",
    "        for label in np.unique(previous_labels):\n",
    "            data_filter = data[previous_labels==label]\n",
    "            axes[0].scatter(data_filter[:, 0], data_filter[:, 1], alpha=0.2) # x-coord, y-coord, alpha\n",
    "            axes[0].set_title(f'Updated centroids (iteration {i+1}, step 1)')\n",
    "    axes[0].scatter(centroids[:, 0], centroids[:, 1], s=50, alpha=1, c='r') # x-coord, y-coord, shape, alpha, color\n",
    "    axes[0].grid(linestyle='--')\n",
    "    \n",
    "    # Plot step 2 values of iteration i:\n",
    "    for label in np.unique(result_kmean):\n",
    "        data_filter = data[result_kmean==label]\n",
    "        axes[1].scatter(data_filter[:, 0], data_filter[:, 1], alpha=0.8) # x-coord, y-coord, alpha\n",
    "        axes[1].set_title(f'Updated clusters (iteration {i+1}, step 2)')\n",
    "    axes[1].grid(linestyle='--')\n",
    "    previous_labels = result_kmean\n",
    "    centroids = clusterer.cluster_centers_ # keeps info about each cluster center\n",
    "    plt.tight_layout() # adjust the padding between and around subplots.\n",
    "    plt.show()"
   ]
  },
  {
   "cell_type": "markdown",
   "metadata": {},
   "source": [
    "## Dataset - Naturalearth cities"
   ]
  },
  {
   "cell_type": "code",
   "execution_count": null,
   "metadata": {
    "scrolled": true
   },
   "outputs": [],
   "source": [
    "import geopandas # conda install geopandas=0.14.4\n",
    "\n",
    "world = geopandas.read_file(geopandas.datasets.get_path('naturalearth_lowres'))\n",
    "cities = geopandas.read_file(geopandas.datasets.get_path('naturalearth_cities'))\n",
    "\n",
    "print(f'World data shape: {world.shape}')\n",
    "print(f'Cities data shape: {cities.shape}')"
   ]
  },
  {
   "cell_type": "markdown",
   "metadata": {},
   "source": [
    "## Exploring Sample Data"
   ]
  },
  {
   "cell_type": "code",
   "execution_count": null,
   "metadata": {},
   "outputs": [],
   "source": [
    "world.head()"
   ]
  },
  {
   "cell_type": "code",
   "execution_count": null,
   "metadata": {},
   "outputs": [],
   "source": [
    "cities.head()"
   ]
  },
  {
   "cell_type": "markdown",
   "metadata": {},
   "source": [
    "## Visualizing Data Points"
   ]
  },
  {
   "cell_type": "code",
   "execution_count": null,
   "metadata": {},
   "outputs": [],
   "source": [
    "background_color = plt.rcParams['figure.facecolor']\n",
    "lines_color = plt.rcParams['text.color']\n",
    "_, ax = plt.subplots(1, figsize=(12, 8)) # Returns a Figure and an Axes object (or array of Axes).\n",
    "\n",
    "base = world.plot(color=background_color, edgecolor=lines_color, linewidth=0.25, ax=ax) # Returns a matplotlib Axes instance\n",
    "ax.set_axis_off()\n",
    "cities.plot(ax=base, marker='o', c='red', markersize=10)"
   ]
  },
  {
   "cell_type": "markdown",
   "metadata": {},
   "source": [
    "## Preprocessing Data"
   ]
  },
  {
   "cell_type": "code",
   "execution_count": null,
   "metadata": {},
   "outputs": [],
   "source": [
    "cities['longitude'] = cities.geometry.x # <class 'pandas.core.series.Series'>\n",
    "cities['latitude'] = cities.geometry.y # <class 'pandas.core.series.Series'>\n",
    "\n",
    "print(type(cities))\n",
    "cities.head()"
   ]
  },
  {
   "cell_type": "code",
   "execution_count": null,
   "metadata": {},
   "outputs": [],
   "source": [
    "data = cities[['longitude', 'latitude']].to_numpy()\n",
    "print(f'Data shape: {data.shape}')\n",
    "print(type(data))"
   ]
  },
  {
   "cell_type": "markdown",
   "metadata": {},
   "source": [
    "## Training a Model"
   ]
  },
  {
   "cell_type": "code",
   "execution_count": null,
   "metadata": {},
   "outputs": [],
   "source": [
    "clusterer = KMeans(n_clusters=10, n_init='auto')\n",
    "result_kmean = clusterer.fit_predict(data) # returns a <class 'numpy.ndarray'> indicating suggested cluster for each datapoint.\n",
    "cities['cluster'] = result_kmean\n",
    "cities.head()"
   ]
  },
  {
   "cell_type": "markdown",
   "metadata": {},
   "source": [
    "## Helper Functions"
   ]
  },
  {
   "cell_type": "code",
   "execution_count": null,
   "metadata": {},
   "outputs": [],
   "source": [
    "from itertools import cycle\n",
    "colors = ['#8dd3c7','#ffffb3','#bebada','#fb8072','#80b1d3','#fdb462','#b3de69','#fccde5','#d9d9d9','#bc80bd','#ccebc5','#ffed6f']\n",
    "colors = cycle(colors)\n",
    "markers = [\",\",\"o\",\"v\",\"^\",\"<\",\">\",\"p\",\"P\",\"*\",\"h\",\"H\"]\n",
    "markers = cycle(markers)"
   ]
  },
  {
   "cell_type": "code",
   "execution_count": null,
   "metadata": {},
   "outputs": [],
   "source": [
    "print(next(colors))\n",
    "print(next(markers))\n",
    "print(next(markers))\n",
    "print(next(markers))\n",
    "print(next(colors))"
   ]
  },
  {
   "cell_type": "markdown",
   "metadata": {},
   "source": [
    "## Visualizing Results"
   ]
  },
  {
   "cell_type": "code",
   "execution_count": null,
   "metadata": {},
   "outputs": [],
   "source": [
    "background_color = plt.rcParams['figure.facecolor']\n",
    "lines_color = plt.rcParams['text.color']\n",
    "_, ax = plt.subplots(1, figsize=(12, 8))\n",
    "base = world.plot(color=background_color, edgecolor=lines_color, linewidth=0.25, ax=ax)\n",
    "ax.set_axis_off()\n",
    "\n",
    "for label in np.unique(result_kmean):\n",
    "    cities_filter = cities[cities.cluster==label]\n",
    "    cities_filter.plot(ax=base, marker=next(markers), c=next(colors), markersize=20, label=f'Cluster {label}', edgecolors=lines_color, linewidth=0.5)\n",
    "plt.title('World Map with Capital Cities')\n",
    "plt.legend()\n",
    "plt.show()"
   ]
  },
  {
   "cell_type": "markdown",
   "metadata": {},
   "source": [
    "## Full Source Code"
   ]
  },
  {
   "cell_type": "code",
   "execution_count": null,
   "metadata": {},
   "outputs": [],
   "source": [
    "import geopandas\n",
    "from itertools import cycle\n",
    "from sklearn.cluster import KMeans\n",
    "import matplotlib.pyplot as plt\n",
    "import numpy as np\n",
    "\n",
    "# Get data.\n",
    "world = geopandas.read_file(geopandas.datasets.get_path('naturalearth_lowres'))\n",
    "cities = geopandas.read_file(geopandas.datasets.get_path('naturalearth_cities'))\n",
    "cities['longitude'] = cities.geometry.x\n",
    "cities['latitude'] = cities.geometry.y\n",
    "# Prepare data.\n",
    "data = cities[['longitude', 'latitude']].to_numpy()\n",
    "# Initalize and train model.\n",
    "clusterer = KMeans(n_clusters=10, n_init='auto')\n",
    "result_kmean = clusterer.fit_predict(data)\n",
    "cities['cluster'] = result_kmean\n",
    "# Plot helpers.\n",
    "colors = ['#8dd3c7','#ffffb3','#bebada','#fb8072','#80b1d3','#fdb462','#b3de69','#fccde5','#d9d9d9','#bc80bd','#ccebc5','#ffed6f']\n",
    "colors = cycle(colors)\n",
    "markers = [\",\",\"o\",\"v\",\"^\",\"<\",\">\",\"p\",\"P\",\"*\",\"h\",\"H\"]\n",
    "markers = cycle(markers)\n",
    "# Plot configuration.\n",
    "background_color = plt.rcParams['figure.facecolor']\n",
    "lines_color = plt.rcParams['text.color']\n",
    "_, ax = plt.subplots(1, figsize=(12, 8))\n",
    "base = world.plot(color=background_color, edgecolor=lines_color, linewidth=0.25, ax=ax)\n",
    "ax.set_axis_off()\n",
    "# Plot the result.\n",
    "for label in np.unique(result_kmean):\n",
    "    cities_filter = cities[cities.cluster==label]\n",
    "    cities_filter.plot(ax=base, marker=next(markers), c=next(colors), markersize=20, label=f'Cluster {label}', edgecolors=lines_color, linewidth=0.5)\n",
    "plt.title('World Map with Capital Cities')\n",
    "plt.legend()\n",
    "plt.show()"
   ]
  }
 ],
 "metadata": {
  "kernelspec": {
   "display_name": "Python 3 (ipykernel)",
   "language": "python",
   "name": "python3"
  },
  "language_info": {
   "codemirror_mode": {
    "name": "ipython",
    "version": 3
   },
   "file_extension": ".py",
   "mimetype": "text/x-python",
   "name": "python",
   "nbconvert_exporter": "python",
   "pygments_lexer": "ipython3",
   "version": "3.12.7"
  }
 },
 "nbformat": 4,
 "nbformat_minor": 4
}
