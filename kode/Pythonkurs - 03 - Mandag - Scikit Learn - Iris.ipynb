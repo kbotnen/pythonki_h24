{
 "cells": [
  {
   "cell_type": "markdown",
   "id": "bfc08517",
   "metadata": {},
   "source": [
    "## Load and inspect the dataset"
   ]
  },
  {
   "cell_type": "code",
   "execution_count": null,
   "id": "3667b252",
   "metadata": {},
   "outputs": [],
   "source": [
    "import warnings\n",
    "warnings.simplefilter(action='ignore', category=UserWarning)"
   ]
  },
  {
   "cell_type": "code",
   "execution_count": null,
   "id": "b6745126-e784-49f6-b604-109257907b75",
   "metadata": {},
   "outputs": [],
   "source": [
    "from sklearn import set_config\n",
    "set_config(display=\"diagram\")"
   ]
  },
  {
   "cell_type": "code",
   "execution_count": null,
   "id": "247944dd",
   "metadata": {},
   "outputs": [],
   "source": [
    "# Load scikit learn and load the dataset\n",
    "from sklearn.datasets import load_iris # conda install scikit-learn, optional: conda install scikit-learn-intelex\n",
    "iris_dataset = load_iris()"
   ]
  },
  {
   "cell_type": "code",
   "execution_count": null,
   "id": "41c65814",
   "metadata": {},
   "outputs": [],
   "source": [
    "type(iris_dataset)"
   ]
  },
  {
   "cell_type": "code",
   "execution_count": null,
   "id": "faa2cf02",
   "metadata": {},
   "outputs": [],
   "source": [
    "print(\"Keys of iris_dataset: \\n{}\".format(iris_dataset.keys()))"
   ]
  },
  {
   "cell_type": "code",
   "execution_count": null,
   "id": "7228dff6",
   "metadata": {},
   "outputs": [],
   "source": [
    "print(\"First five columns of data:\\n{}\".format(iris_dataset['data'][:5]))\n",
    "print(\"\\n\")\n",
    "print(\"Targets:\\n{}\".format(iris_dataset['target'][:]))\n",
    "print(\"\\n\")\n",
    "print(\"Target names:\\n{}\".format(iris_dataset['target_names']))\n",
    "print(\"\\n\")\n",
    "print(\"Feature names:\\n{}\".format(iris_dataset['feature_names']))\n",
    "print(\"\\n\")\n",
    "print(\"Dataset location:\\n{}\".format(iris_dataset['filename']))"
   ]
  },
  {
   "cell_type": "code",
   "execution_count": null,
   "id": "48336d99",
   "metadata": {},
   "outputs": [],
   "source": [
    "print(iris_dataset['DESCR'])"
   ]
  },
  {
   "cell_type": "markdown",
   "id": "fa5ab76a",
   "metadata": {},
   "source": [
    "## Prepare data for training the model"
   ]
  },
  {
   "cell_type": "code",
   "execution_count": null,
   "id": "53ca8b95",
   "metadata": {},
   "outputs": [],
   "source": [
    "# We need to create both a training set AND a testing set\n",
    "from sklearn.model_selection import train_test_split\n",
    "\n",
    "X_train, X_test, y_train, y_test = train_test_split(\n",
    "        iris_dataset['data'], \n",
    "        iris_dataset['target'], \n",
    "        test_size=0.25, # represent the proportion of the dataset to include in the test split.\n",
    "        random_state=42 # an int for reproducible output across multiple function calls.\n",
    ")"
   ]
  },
  {
   "cell_type": "code",
   "execution_count": null,
   "id": "18bbf97a-d17c-41d1-a46c-192eab03e539",
   "metadata": {},
   "outputs": [],
   "source": [
    "print(\"X_train type: \", type(X_train))\n",
    "print(\"X_train shape: {}\".format(X_train.shape)) \n",
    "print(\"y_train shape: {}\".format(y_train.shape))\n",
    "print(\"X_test shape: {}\".format(X_test.shape)) \n",
    "print(\"y_test shape: {}\".format(y_test.shape))"
   ]
  },
  {
   "cell_type": "code",
   "execution_count": null,
   "id": "384b9889",
   "metadata": {},
   "outputs": [],
   "source": [
    "# conda install matplotlib\n",
    "import pandas as pd\n",
    "iris_dataframe = pd.DataFrame(X_train, columns=iris_dataset.feature_names)\n",
    "\n",
    "print(iris_dataframe)\n",
    "print(y_train)\n",
    "\n",
    "grr = pd.plotting.scatter_matrix(\n",
    "    iris_dataframe,\n",
    "    c=y_train, # color by category.\n",
    "    figsize=(15, 15),\n",
    "    marker='o',\n",
    "    hist_kwds={'bins': 20}, # keywords to hist function.\n",
    "    s=60, # marker size in points**2 (typographic points are 1/72 in. Default is rcParams['lines.markersize'] ** 2.\n",
    "    alpha=.8\n",
    ")\n"
   ]
  },
  {
   "cell_type": "markdown",
   "id": "50b04127",
   "metadata": {},
   "source": [
    "## Build the model"
   ]
  },
  {
   "cell_type": "code",
   "execution_count": null,
   "id": "0c5fd0f9",
   "metadata": {},
   "outputs": [],
   "source": [
    "# Import one of many classification algorithms.\n",
    "from sklearn.neighbors import KNeighborsClassifier\n",
    "\n",
    "n_neighbors=1\n",
    "\n",
    "# This is a object containing the algorithm that build the model.\n",
    "knn = KNeighborsClassifier(n_neighbors=1)"
   ]
  },
  {
   "cell_type": "code",
   "execution_count": null,
   "id": "81e12ea3",
   "metadata": {},
   "outputs": [],
   "source": [
    "knn.fit(X_train[:,2:], y_train) # Slicing notation for numpyarray. We only want the two last columns / dimensions."
   ]
  },
  {
   "cell_type": "markdown",
   "id": "29129a69-3a6e-4d92-b2c1-65b52a49e4d6",
   "metadata": {},
   "source": [
    "![Choosing the right estimator](ml_map.svg)\n",
    "\n",
    "[https://scikit-learn.org/stable/machine_learning_map.html](https://scikit-learn.org/stable/machine_learning_map.html)"
   ]
  },
  {
   "cell_type": "markdown",
   "id": "98f95736",
   "metadata": {},
   "source": [
    "## Visualize our model"
   ]
  },
  {
   "cell_type": "code",
   "execution_count": null,
   "id": "61df466c-e5a8-4ed5-9309-2a24b9e0de21",
   "metadata": {},
   "outputs": [],
   "source": [
    "import numpy as np\n",
    "\n",
    "# Numpy arange()\n",
    "print(np.arange(1, 2, 0.2))\n",
    "\n",
    "\n",
    "# Numpy ravel()\n",
    "a = np.array([[1, 2], [3, 4]])\n",
    "b = np.ravel(a)\n",
    "print(b)\n",
    "\n",
    "# Numpy columnstacking: Translates slice objects to concatenation along the second axis.\n",
    "stack_a = np.c_[np.array([1,2,3]), np.array([4,5,6])]\n",
    "stack_b = np.c_[np.array([[1,2,3]]), 0, 0, np.array([[4,5,6]])]\n",
    "print(stack_a)\n",
    "print(stack_b)"
   ]
  },
  {
   "cell_type": "code",
   "execution_count": null,
   "id": "ae08b95e",
   "metadata": {},
   "outputs": [],
   "source": [
    "# Lets visualize our trained model. The result will show the decision boundaries of the model.\n",
    "# Plot our training data set on top of a coloured domain in which each color represents a category in our model.\n",
    "import numpy as np\n",
    "\n",
    "x_min,x_max = X_train[:,2].min() - 1, X_train[:,2].max()+ 1 # Get boundaries X.\n",
    "y_min,y_max = X_train[:,3].min() - 1, X_train[:,3].max()+ 1 # Get boundaries Y.\n",
    "\n",
    "print(\"Our boundaries\")\n",
    "print(x_min,x_max)\n",
    "print(y_min,y_max)\n",
    "\n",
    "h=0.02 # Spacing between values.\n",
    "xx,yy = np.meshgrid(np.arange(x_min,x_max,h),np.arange(y_min,y_max,h)) # np.arange() return evenly spaced values within a given interval.\n",
    "\n",
    "print(\"\\nResult of meshgrid based on our boundaries\")\n",
    "print(xx)\n",
    "print(yy)"
   ]
  },
  {
   "cell_type": "code",
   "execution_count": null,
   "id": "af94bbe5-fa93-469b-863a-95afaf52e24a",
   "metadata": {},
   "outputs": [],
   "source": [
    "Z = knn.predict(np.c_[xx.ravel(), yy.ravel()]) # Predict the class labels for the provided data.\n",
    "Z = Z.reshape(xx.shape) # Gives a new shape to an array without changing its data.\n",
    "\n",
    "print(type(Z))\n",
    "print(Z.shape)\n",
    "print(Z)"
   ]
  },
  {
   "cell_type": "code",
   "execution_count": null,
   "id": "e139a4ee-63b7-49dc-a394-ce3727232e91",
   "metadata": {},
   "outputs": [],
   "source": [
    "from matplotlib.colors import ListedColormap\n",
    "import matplotlib.pyplot as plt\n",
    "\n",
    "# Define a suitable colorscheme.\n",
    "cmap_bold = ListedColormap(['darkorange', 'blue', 'darkblue'])\n",
    "cmap_light = ListedColormap(['orange', 'cyan', 'cornflowerblue'])\n",
    "\n",
    "# Plot setup.\n",
    "fig = plt.figure()\n",
    "ax1 = fig.add_subplot(111) # (nrows, ncols, index)\n",
    "ax1.pcolormesh(xx, yy, Z, cmap=cmap_light, shading='gouraud') # Create a pseudocolor plot with a non-regular rectangular grid.\n",
    "\n",
    "# Plot our observations.\n",
    "for target in iris_dataset.target_names:\n",
    "    index=np.where(iris_dataset.target_names==target)[0][0]\n",
    "    ax1.scatter(\n",
    "        X_train[:,2][y_train==index],\n",
    "        X_train[:,3][y_train==index],\n",
    "        cmap=cmap_bold,\n",
    "        edgecolor='k',\n",
    "        s=20,\n",
    "        label=target\n",
    "    )\n",
    "\n",
    "# Some housekeeping on the plot.\n",
    "ax1.set_xlim(x_min,x_max)\n",
    "ax1.set_ylim(y_min,y_max)\n",
    "ax1.legend()\n",
    "ax1.set_xlabel(\"petal length (cm)\")\n",
    "ax1.set_ylabel(\"petal width (cm)\")\n",
    "ax1.set_title(\"3-Class classification (k = %i, weights = '%s')\"\n",
    "              % (n_neighbors, 'uniform'))\n",
    "plt.show()"
   ]
  },
  {
   "cell_type": "markdown",
   "id": "db06b06b",
   "metadata": {},
   "source": [
    "## Use the model"
   ]
  },
  {
   "cell_type": "code",
   "execution_count": null,
   "id": "668789a8",
   "metadata": {},
   "outputs": [],
   "source": [
    "# Making a prediction.\n",
    "new_data = np.array([[4,3.5,1.2,0.5]]) # sepal length (cm),  sepal width (cm),  petal length (cm),  petal width (cm)\n",
    "prediction = knn.predict(new_data[:,2:]) #  We trained only with the two last columns / dimensions.\n",
    "print(\"Prediction: {}\".format(prediction))\n",
    "print(\"Predicted target name: {}\".format(iris_dataset['target_names'][prediction]))"
   ]
  },
  {
   "cell_type": "markdown",
   "id": "11a8f005",
   "metadata": {},
   "source": [
    "## Validate the model"
   ]
  },
  {
   "cell_type": "code",
   "execution_count": null,
   "id": "9e0fd5bd",
   "metadata": {},
   "outputs": [],
   "source": [
    "# Validate the model using the testdata we prepared earlier.\n",
    "y_pred = knn.predict(X_test[:,2:]) # We trained only with the two last columns / dimensions.\n",
    "print(\"Test set predictions:\\n {}\".format(y_pred))"
   ]
  },
  {
   "cell_type": "code",
   "execution_count": null,
   "id": "1bd0a8c7",
   "metadata": {},
   "outputs": [],
   "source": [
    "print(\"Test set score: {:.2f}\".format(knn.score(X_test[:,2:], y_test)))"
   ]
  },
  {
   "cell_type": "markdown",
   "id": "f8c672c7",
   "metadata": {},
   "source": [
    "## Oppsummering"
   ]
  },
  {
   "cell_type": "markdown",
   "id": "5308dfa9",
   "metadata": {},
   "source": [
    "k-Nearest Neighbors is a simple classification algorithm in which predictions a new data point to the closest data points in the training dataset.\n",
    "\n",
    "It is not necessary to use all the features in our training dataset. We can use different combinations to try to achive better results."
   ]
  }
 ],
 "metadata": {
  "kernelspec": {
   "display_name": "Python 3 (ipykernel)",
   "language": "python",
   "name": "python3"
  },
  "language_info": {
   "codemirror_mode": {
    "name": "ipython",
    "version": 3
   },
   "file_extension": ".py",
   "mimetype": "text/x-python",
   "name": "python",
   "nbconvert_exporter": "python",
   "pygments_lexer": "ipython3",
   "version": "3.12.7"
  },
  "widgets": {
   "application/vnd.jupyter.widget-state+json": {
    "state": {},
    "version_major": 2,
    "version_minor": 0
   }
  }
 },
 "nbformat": 4,
 "nbformat_minor": 5
}
